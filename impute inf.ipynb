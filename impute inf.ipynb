{
 "cells": [
  {
   "cell_type": "code",
   "execution_count": 67,
   "metadata": {
    "collapsed": true
   },
   "outputs": [],
   "source": [
    "import pandas as pd\n",
    "import numpy as np\n",
    "from glob import glob\n",
    "from tqdm import tqdm\n",
    "from scipy import interpolate\n",
    "from xgboost import XGBRegressor\n",
    "from sklearn.linear_model import LinearRegression\n",
    "from sklearn.ensemble import RandomForestRegressor\n",
    "from sklearn.model_selection import train_test_split\n",
    "from sklearn.metrics import mean_absolute_error"
   ]
  },
  {
   "cell_type": "code",
   "execution_count": 68,
   "outputs": [],
   "source": [
    "#w_list = sorted(glob(\"data/water_data/*.csv\"))\n",
    "df = pd.read_csv(\"data_2012~2021 impute_tototf.csv\")"
   ],
   "metadata": {
    "collapsed": false,
    "pycharm": {
     "name": "#%%\n"
    }
   }
  },
  {
   "cell_type": "code",
   "execution_count": 69,
   "outputs": [
    {
     "name": "stderr",
     "output_type": "stream",
     "text": [
      "100%|██████████| 264959/264959 [00:08<00:00, 30261.70it/s]\n"
     ]
    }
   ],
   "source": [
    "# 훈련 데이터 수집\n",
    "# 실험 결과 \"tototf\", \"fw_1019630\" 두가지만 사용할때가 가장 좋았음\n",
    "# inf의 이상치는 24000을 기준으로 이상\n",
    "\n",
    "train_data = []\n",
    "train_label = []\n",
    "train_data_append = train_data.append\n",
    "train_label_append = train_label.append\n",
    "\n",
    "df = df.replace(\" \", np.nan)\n",
    "df = dict(df)\n",
    "for j in tqdm(range(len(df[\"inf\"])-1)):\n",
    "    # 라벨이 이상하면 패스 : 0이하이거나, nan이거나, 24000 이상의 이상치거나\n",
    "    if (df[\"inf\"][j+1] <= 0) or (df[\"inf\"][j+1] != df[\"inf\"][j+1]) or (df[\"inf\"][j+1] > 24000):\n",
    "        continue\n",
    "    # 데이터가 이상하면 패스\n",
    "    if (df[\"inf\"][j] <= 0) or (df[\"inf\"][j] != df[\"inf\"][j]) or (df[\"inf\"][j] > 24000):\n",
    "        continue\n",
    "    if (df[\"fw_1019630\"][j] <= 0) or (df[\"fw_1019630\"][j] != df[\"fw_1019630\"][j]):\n",
    "        continue\n",
    "\n",
    "    train_data_append([df[\"inf\"][j], df[\"fw_1019630\"][j], df[\"tototf\"][j]])\n",
    "    train_label_append(df[\"inf\"][j+1])"
   ],
   "metadata": {
    "collapsed": false,
    "pycharm": {
     "name": "#%%\n"
    }
   }
  },
  {
   "cell_type": "code",
   "execution_count": 70,
   "outputs": [
    {
     "name": "stdout",
     "output_type": "stream",
     "text": [
      "(240123, 3)\n",
      "(240123,)\n"
     ]
    }
   ],
   "source": [
    "#train_data = np.delete(train_data, 2, 1)\n",
    "\n",
    "print(np.array(train_data).shape)\n",
    "print(np.array(train_label).shape)\n",
    "train_data = np.array(train_data)\n",
    "train_label = np.array(train_label)"
   ],
   "metadata": {
    "collapsed": false,
    "pycharm": {
     "name": "#%%\n"
    }
   }
  },
  {
   "cell_type": "code",
   "execution_count": 71,
   "outputs": [
    {
     "name": "stdout",
     "output_type": "stream",
     "text": [
      "65.65357627697827\n",
      "64.99142798132432\n",
      "[0.6217937  0.00281009 0.37539622]\n",
      "71.34426207019757\n",
      "[0.7872625  0.00510727 0.20763023]\n"
     ]
    }
   ],
   "source": [
    "# 검증\n",
    "# inf wl tototf\n",
    "X_train, X_test, y_train, y_test = train_test_split(train_data, train_label, test_size=0.2)\n",
    "\n",
    "model = LinearRegression()\n",
    "model.fit(X_train, y_train)\n",
    "print(mean_absolute_error(model.predict(X_test), y_test))\n",
    "model = XGBRegressor()\n",
    "model.fit(X_train, y_train)\n",
    "print(mean_absolute_error(model.predict(X_test), y_test))\n",
    "print(model.feature_importances_)\n",
    "model = RandomForestRegressor()\n",
    "model.fit(X_train, y_train)\n",
    "print(mean_absolute_error(model.predict(X_test), y_test))\n",
    "print(model.feature_importances_)"
   ],
   "metadata": {
    "collapsed": false,
    "pycharm": {
     "name": "#%%\n"
    }
   }
  },
  {
   "cell_type": "code",
   "execution_count": 72,
   "outputs": [
    {
     "data": {
      "text/plain": "XGBRegressor(base_score=0.5, booster='gbtree', colsample_bylevel=1,\n             colsample_bynode=1, colsample_bytree=1, gamma=0, gpu_id=-1,\n             importance_type='gain', interaction_constraints='',\n             learning_rate=0.300000012, max_delta_step=0, max_depth=6,\n             min_child_weight=1, missing=nan, monotone_constraints='()',\n             n_estimators=100, n_jobs=4, num_parallel_tree=1, random_state=0,\n             reg_alpha=0, reg_lambda=1, scale_pos_weight=1, subsample=1,\n             tree_method='exact', validate_parameters=1, verbosity=None)"
     },
     "execution_count": 72,
     "metadata": {},
     "output_type": "execute_result"
    }
   ],
   "source": [
    "model = XGBRegressor()\n",
    "model.fit(train_data, train_label)"
   ],
   "metadata": {
    "collapsed": false,
    "pycharm": {
     "name": "#%%\n"
    }
   }
  },
  {
   "cell_type": "code",
   "execution_count": 73,
   "outputs": [
    {
     "name": "stdout",
     "output_type": "stream",
     "text": [
      "nan count of inf : 707\n",
      "under zero count of inf : 18046\n",
      "anomaly count of inf : 2\n",
      "-----------\n",
      "nan count of inf : 36\n",
      "under zero count of inf : 1070\n",
      "anomaly count of inf : 0\n"
     ]
    }
   ],
   "source": [
    "df = pd.read_csv(\"data_2012~2021 impute_tototf.csv\", index_col=0)\n",
    "df_2022 = pd.read_csv(\"data_2022 impute_tototf.csv\", index_col=0)\n",
    "\n",
    "column = \"inf\"\n",
    "print(f\"nan count of {column} : {df[str(column)].isna().sum()}\")\n",
    "print(f\"under zero count of {column} : {(df[str(column)]<=0).sum()}\")\n",
    "print(f\"anomaly count of {column} : {(df[str(column)] > 24000).sum()}\")\n",
    "print(\"-----------\")\n",
    "print(f\"nan count of {column} : {df_2022[str(column)].isna().sum()}\")\n",
    "print(f\"under zero count of {column} : {(df_2022[str(column)]<=0).sum()}\")\n",
    "print(f\"anomaly count of {column} : {(df_2022[str(column)] > 24000).sum()}\")\n",
    "\n",
    "impute_df = dict(df.copy())\n",
    "impute_2022 = dict(df_2022.copy())"
   ],
   "metadata": {
    "collapsed": false,
    "pycharm": {
     "name": "#%%\n"
    }
   }
  },
  {
   "cell_type": "code",
   "execution_count": 74,
   "outputs": [
    {
     "name": "stderr",
     "output_type": "stream",
     "text": [
      "100%|██████████| 264959/264959 [00:46<00:00, 5721.58it/s] \n",
      "100%|██████████| 11375/11375 [00:03<00:00, 3446.72it/s]\n"
     ]
    }
   ],
   "source": [
    "# dict 리팩토링 완료\n",
    "\n",
    "for i in tqdm(range(len(impute_df[\"inf\"])-1)):\n",
    "    # 타겟이 0이하이거나 nan이거나 이상치일때\n",
    "    if (impute_df[\"inf\"][i+1] <= 0) or (impute_df[\"inf\"][i+1] != impute_df[\"inf\"][i+1]) or (impute_df[\"inf\"][i+1] > 24000):\n",
    "        # tototf 데이터가 모두 정상일때\n",
    "        if (impute_df[\"inf\"][i] > 0) and (impute_df[\"inf\"][i] == impute_df[\"inf\"][i]) and (impute_df[\"inf\"][i] <= 24000):\n",
    "            # fw_1019630 데이터가 모두 정상일때\n",
    "            if (impute_df[\"fw_1019630\"][i] > 0) and (impute_df[\"fw_1019630\"][i] == impute_df[\"fw_1019630\"][i]):\n",
    "                impute_df[\"inf\"][i+1] = model.predict(np.array([impute_df[\"inf\"][i], impute_df[\"fw_1019630\"][i], impute_df[\"tototf\"][i]]).reshape(1,-1))\n",
    "\n",
    "for i in tqdm(range(len(df_2022[\"tototf\"])-1)):\n",
    "    if (df_2022[\"inf\"][i+1] <= 0) or (df_2022[\"inf\"][i+1] != df_2022[\"inf\"][i+1]) or (df_2022[\"inf\"][i+1] > 24000):\n",
    "        # tototf 데이터가 모두 정상일때\n",
    "        if (df_2022[\"inf\"][i] > 0) and (df_2022[\"inf\"][i] == df_2022[\"inf\"][i]) and (df_2022[\"inf\"][i] <= 24000):\n",
    "            # fw_1019630 데이터가 모두 정상일때\n",
    "            if (df_2022[\"fw_1019630\"][i] > 0) and (df_2022[\"fw_1019630\"][i] == df_2022[\"fw_1019630\"][i]):\n",
    "                df_2022[\"inf\"][i+1] = model.predict(np.array([df_2022[\"inf\"][i], df_2022[\"fw_1019630\"][i], df_2022[\"tototf\"][i]]).reshape(1,-1))\n"
   ],
   "metadata": {
    "collapsed": false,
    "pycharm": {
     "name": "#%%\n"
    }
   }
  },
  {
   "cell_type": "code",
   "execution_count": 75,
   "outputs": [
    {
     "name": "stdout",
     "output_type": "stream",
     "text": [
      "nan count of inf : 0\n",
      "zero count of inf : 7\n",
      "anomaly count of inf : 0\n",
      "-----------\n",
      "nan count of inf : 0\n",
      "zero count of inf : 0\n",
      "anomaly count of inf : 0\n"
     ]
    }
   ],
   "source": [
    "impute_df = pd.DataFrame.from_dict(impute_df)\n",
    "df_2022 = pd.DataFrame.from_dict(df_2022)\n",
    "\n",
    "column = \"inf\"\n",
    "print(f\"nan count of {column} : {impute_df[str(column)].isna().sum()}\")\n",
    "print(f\"zero count of {column} : {(impute_df[str(column)]<=0).sum()}\")\n",
    "print(f\"anomaly count of {column} : {(impute_df[str(column)] > 24000).sum()}\")\n",
    "print(\"-----------\")\n",
    "print(f\"nan count of {column} : {df_2022[str(column)].isna().sum()}\")\n",
    "print(f\"zero count of {column} : {(df_2022[str(column)]<=0).sum()}\")\n",
    "print(f\"anomaly count of {column} : {(df_2022[str(column)] > 24000).sum()}\")"
   ],
   "metadata": {
    "collapsed": false,
    "pycharm": {
     "name": "#%%\n"
    }
   }
  },
  {
   "cell_type": "code",
   "execution_count": 76,
   "outputs": [],
   "source": [
    "# 남아있는 0 이하는 보간으로 보정\n",
    "\n",
    "impute_df[\"inf\"] = impute_df[\"inf\"].apply(lambda x: x if x>0 else np.nan)\n",
    "impute_df[\"inf\"] = impute_df[\"inf\"].interpolate()"
   ],
   "metadata": {
    "collapsed": false,
    "pycharm": {
     "name": "#%%\n"
    }
   }
  },
  {
   "cell_type": "code",
   "execution_count": 77,
   "outputs": [
    {
     "name": "stdout",
     "output_type": "stream",
     "text": [
      "nan count of inf : 0\n",
      "zero count of inf : 0\n",
      "anomaly count of inf : 0\n",
      "-----------\n",
      "nan count of inf : 0\n",
      "zero count of inf : 0\n",
      "anomaly count of inf : 0\n"
     ]
    }
   ],
   "source": [
    "column = \"inf\"\n",
    "print(f\"nan count of {column} : {impute_df[str(column)].isna().sum()}\")\n",
    "print(f\"zero count of {column} : {(impute_df[str(column)]<=0).sum()}\")\n",
    "print(f\"anomaly count of {column} : {(impute_df[str(column)] > 24000).sum()}\")\n",
    "print(\"-----------\")\n",
    "print(f\"nan count of {column} : {df_2022[str(column)].isna().sum()}\")\n",
    "print(f\"zero count of {column} : {(df_2022[str(column)]<=0).sum()}\")\n",
    "print(f\"anomaly count of {column} : {(df_2022[str(column)] > 24000).sum()}\")"
   ],
   "metadata": {
    "collapsed": false,
    "pycharm": {
     "name": "#%%\n"
    }
   }
  },
  {
   "cell_type": "code",
   "execution_count": 78,
   "outputs": [],
   "source": [
    "impute_df.to_csv(\"data_2012~2021 impute_tototf+inf.csv\")\n",
    "df_2022.to_csv(\"data_2022 impute_tototf+inf.csv\")"
   ],
   "metadata": {
    "collapsed": false,
    "pycharm": {
     "name": "#%%\n"
    }
   }
  },
  {
   "cell_type": "code",
   "execution_count": 79,
   "outputs": [
    {
     "data": {
      "text/plain": "[<matplotlib.lines.Line2D at 0x1df9c627888>]"
     },
     "execution_count": 79,
     "metadata": {},
     "output_type": "execute_result"
    },
    {
     "data": {
      "text/plain": "<Figure size 432x288 with 1 Axes>",
      "image/png": "[encoded data removed]"
     },
     "metadata": {
      "needs_background": "light"
     },
     "output_type": "display_data"
    }
   ],
   "source": [
    "import matplotlib.pyplot as plt\n",
    "plt.plot(df[\"inf\"].values)\n",
    "plt.plot(impute_df[\"inf\"].values)"
   ],
   "metadata": {
    "collapsed": false,
    "pycharm": {
     "name": "#%%\n"
    }
   }
  }
 ],
 "metadata": {
  "kernelspec": {
   "display_name": "Python 3",
   "language": "python",
   "name": "python3"
  },
  "language_info": {
   "codemirror_mode": {
    "name": "ipython",
    "version": 2
   },
   "file_extension": ".py",
   "mimetype": "text/x-python",
   "name": "python",
   "nbconvert_exporter": "python",
   "pygments_lexer": "ipython2",
   "version": "2.7.6"
  }
 },
 "nbformat": 4,
 "nbformat_minor": 0
}