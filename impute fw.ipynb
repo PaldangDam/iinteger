{
 "cells": [
  {
   "cell_type": "code",
   "execution_count": 73,
   "metadata": {
    "collapsed": true
   },
   "outputs": [],
   "source": [
    "import pandas as pd\n",
    "import numpy as np\n",
    "from glob import glob\n",
    "from tqdm import tqdm\n",
    "from scipy import interpolate\n",
    "import pandas as pd\n",
    "import numpy as np\n",
    "from glob import glob\n",
    "from tqdm import tqdm\n",
    "from xgboost import XGBRegressor\n",
    "from sklearn.linear_model import LinearRegression\n",
    "from sklearn.ensemble import RandomForestRegressor\n",
    "from sklearn.model_selection import train_test_split\n",
    "from sklearn.metrics import mean_absolute_error"
   ]
  },
  {
   "cell_type": "code",
   "execution_count": 78,
   "outputs": [],
   "source": [
    "#w_list = sorted(glob(\"data/water_data/*.csv\"))\n",
    "df = pd.read_csv(\"data_2012~2021 impute_tototf+inf+wl.csv\")\n",
    "df_2022 = pd.read_csv(\"data_2022 impute_tototf+inf.csv\")\n",
    "\n",
    "df = df.replace(\" \", np.nan)\n",
    "df_2022 = df_2022.replace(\" \", np.nan)"
   ],
   "metadata": {
    "collapsed": false,
    "pycharm": {
     "name": "#%%\n"
    }
   }
  },
  {
   "cell_type": "code",
   "execution_count": 79,
   "outputs": [
    {
     "data": {
      "text/plain": "       Unnamed: 0            swl            inf            sfw           ecpc  \\\ncount  264960.000  264253.000000  264960.000000  264253.000000  264253.000000   \nmean   132479.500      25.072592     562.092284     219.630025      24.370585   \nstd     76487.508       0.468083    1105.419376      10.730610      10.730225   \nmin         0.000       0.000000       0.010000      -0.010000       2.150000   \n25%     66239.750      24.980000     132.500000     212.140000      14.100000   \n50%    132479.500      25.102000     256.000000     217.990000      26.010000   \n75%    198719.250      25.195000     526.562500     229.900000      31.860000   \nmax    264959.000      25.449000   20015.000000     241.850000     244.010000   \n\n              tototf     tide_level     wl_1018662     fw_1018662  \\\ncount  264960.000000  260046.000000  264960.000000  251765.000000   \nmean      544.524190     347.262523     329.895862     728.373508   \nstd      1107.336479     174.699839      76.363145     897.650172   \nmin         9.000000      39.000000     259.700000     243.290000   \n25%       132.000000     193.000000     288.700000     337.640000   \n50%       175.700000     328.000000     307.700000     461.960000   \n75%       507.000000     489.000000     343.700000     752.700000   \nmax     18615.260000     842.000000    1287.700000    9405.640000   \n\n          wl_1018680  fw_1018680     wl_1018683     fw_1018683     wl_1019630  \\\ncount  264960.000000     79487.0  264960.000000  263681.000000  264960.000000   \nmean      316.476234         0.0     313.057514     603.419963     300.528570   \nstd        67.469334         0.0      63.778508    1381.465277      51.321663   \nmin       246.200000         0.0     247.000000   -3522.710000     241.300000   \n25%       278.200000         0.0     276.000000     207.950000     268.300000   \n50%       298.200000         0.0     296.000000     359.190000     287.300000   \n75%       330.200000         0.0     328.000000     713.260000     317.300000   \nmax      1146.200000         0.0    1080.000000   25289.170000     843.300000   \n\n          fw_1019630  \ncount  264901.000000  \nmean     1064.080321  \nstd      1432.056582  \nmin       212.040000  \n25%       460.030000  \n50%       692.880000  \n75%      1159.750000  \nmax     29854.120000  ",
      "text/html": "<div>\n<style scoped>\n    .dataframe tbody tr th:only-of-type {\n        vertical-align: middle;\n    }\n\n    .dataframe tbody tr th {\n        vertical-align: top;\n    }\n\n    .dataframe thead th {\n        text-align: right;\n    }\n</style>\n<table border=\"1\" class=\"dataframe\">\n  <thead>\n    <tr style=\"text-align: right;\">\n      <th></th>\n      <th>Unnamed: 0</th>\n      <th>swl</th>\n      <th>inf</th>\n      <th>sfw</th>\n      <th>ecpc</th>\n      <th>tototf</th>\n      <th>tide_level</th>\n      <th>wl_1018662</th>\n      <th>fw_1018662</th>\n      <th>wl_1018680</th>\n      <th>fw_1018680</th>\n      <th>wl_1018683</th>\n      <th>fw_1018683</th>\n      <th>wl_1019630</th>\n      <th>fw_1019630</th>\n    </tr>\n  </thead>\n  <tbody>\n    <tr>\n      <th>count</th>\n      <td>264960.000</td>\n      <td>264253.000000</td>\n      <td>264960.000000</td>\n      <td>264253.000000</td>\n      <td>264253.000000</td>\n      <td>264960.000000</td>\n      <td>260046.000000</td>\n      <td>264960.000000</td>\n      <td>251765.000000</td>\n      <td>264960.000000</td>\n      <td>79487.0</td>\n      <td>264960.000000</td>\n      <td>263681.000000</td>\n      <td>264960.000000</td>\n      <td>264901.000000</td>\n    </tr>\n    <tr>\n      <th>mean</th>\n      <td>132479.500</td>\n      <td>25.072592</td>\n      <td>562.092284</td>\n      <td>219.630025</td>\n      <td>24.370585</td>\n      <td>544.524190</td>\n      <td>347.262523</td>\n      <td>329.895862</td>\n      <td>728.373508</td>\n      <td>316.476234</td>\n      <td>0.0</td>\n      <td>313.057514</td>\n      <td>603.419963</td>\n      <td>300.528570</td>\n      <td>1064.080321</td>\n    </tr>\n    <tr>\n      <th>std</th>\n      <td>76487.508</td>\n      <td>0.468083</td>\n      <td>1105.419376</td>\n      <td>10.730610</td>\n      <td>10.730225</td>\n      <td>1107.336479</td>\n      <td>174.699839</td>\n      <td>76.363145</td>\n      <td>897.650172</td>\n      <td>67.469334</td>\n      <td>0.0</td>\n      <td>63.778508</td>\n      <td>1381.465277</td>\n      <td>51.321663</td>\n      <td>1432.056582</td>\n    </tr>\n    <tr>\n      <th>min</th>\n      <td>0.000</td>\n      <td>0.000000</td>\n      <td>0.010000</td>\n      <td>-0.010000</td>\n      <td>2.150000</td>\n      <td>9.000000</td>\n      <td>39.000000</td>\n      <td>259.700000</td>\n      <td>243.290000</td>\n      <td>246.200000</td>\n      <td>0.0</td>\n      <td>247.000000</td>\n      <td>-3522.710000</td>\n      <td>241.300000</td>\n      <td>212.040000</td>\n    </tr>\n    <tr>\n      <th>25%</th>\n      <td>66239.750</td>\n      <td>24.980000</td>\n      <td>132.500000</td>\n      <td>212.140000</td>\n      <td>14.100000</td>\n      <td>132.000000</td>\n      <td>193.000000</td>\n      <td>288.700000</td>\n      <td>337.640000</td>\n      <td>278.200000</td>\n      <td>0.0</td>\n      <td>276.000000</td>\n      <td>207.950000</td>\n      <td>268.300000</td>\n      <td>460.030000</td>\n    </tr>\n    <tr>\n      <th>50%</th>\n      <td>132479.500</td>\n      <td>25.102000</td>\n      <td>256.000000</td>\n      <td>217.990000</td>\n      <td>26.010000</td>\n      <td>175.700000</td>\n      <td>328.000000</td>\n      <td>307.700000</td>\n      <td>461.960000</td>\n      <td>298.200000</td>\n      <td>0.0</td>\n      <td>296.000000</td>\n      <td>359.190000</td>\n      <td>287.300000</td>\n      <td>692.880000</td>\n    </tr>\n    <tr>\n      <th>75%</th>\n      <td>198719.250</td>\n      <td>25.195000</td>\n      <td>526.562500</td>\n      <td>229.900000</td>\n      <td>31.860000</td>\n      <td>507.000000</td>\n      <td>489.000000</td>\n      <td>343.700000</td>\n      <td>752.700000</td>\n      <td>330.200000</td>\n      <td>0.0</td>\n      <td>328.000000</td>\n      <td>713.260000</td>\n      <td>317.300000</td>\n      <td>1159.750000</td>\n    </tr>\n    <tr>\n      <th>max</th>\n      <td>264959.000</td>\n      <td>25.449000</td>\n      <td>20015.000000</td>\n      <td>241.850000</td>\n      <td>244.010000</td>\n      <td>18615.260000</td>\n      <td>842.000000</td>\n      <td>1287.700000</td>\n      <td>9405.640000</td>\n      <td>1146.200000</td>\n      <td>0.0</td>\n      <td>1080.000000</td>\n      <td>25289.170000</td>\n      <td>843.300000</td>\n      <td>29854.120000</td>\n    </tr>\n  </tbody>\n</table>\n</div>"
     },
     "execution_count": 79,
     "metadata": {},
     "output_type": "execute_result"
    }
   ],
   "source": [
    "df.describe()"
   ],
   "metadata": {
    "collapsed": false,
    "pycharm": {
     "name": "#%%\n"
    }
   }
  },
  {
   "cell_type": "code",
   "execution_count": 80,
   "outputs": [
    {
     "name": "stdout",
     "output_type": "stream",
     "text": [
      "(264960, 16)\n",
      "nan count of fw_1018662 : 13195\n",
      "under zero count of fw_1018662 : 0\n",
      "-----------\n",
      "nan count of fw_1018680 : 185473\n",
      "under zero count of fw_1018680 : 79487\n",
      "-----------\n",
      "nan count of fw_1018683 : 1279\n",
      "under zero count of fw_1018683 : 26602\n",
      "-----------\n",
      "nan count of fw_1019630 : 59\n",
      "under zero count of fw_1019630 : 0\n",
      "-----------\n",
      "\n",
      "(11376, 15)\n",
      "nan count of fw_1018662 : 3185\n",
      "under zero count of fw_1018662 : 0\n",
      "-----------\n",
      "nan count of fw_1018680 : 11376\n",
      "under zero count of fw_1018680 : 0\n",
      "-----------\n",
      "nan count of fw_1018683 : 0\n",
      "under zero count of fw_1018683 : 1158\n",
      "-----------\n",
      "nan count of fw_1019630 : 0\n",
      "under zero count of fw_1019630 : 0\n",
      "-----------\n"
     ]
    }
   ],
   "source": [
    "columns = [\"fw_1018662\", \"fw_1018680\",\"fw_1018683\", \"fw_1019630\"]\n",
    "print(df.shape)\n",
    "for column in columns:\n",
    "    print(f\"nan count of {column} : {df[str(column)].isna().sum()}\")\n",
    "    print(f\"under zero count of {column} : {(df[str(column)]<=0).sum()}\")\n",
    "    print(\"-----------\")\n",
    "\n",
    "print()\n",
    "print(df_2022.shape)\n",
    "for column in columns:\n",
    "    print(f\"nan count of {column} : {df_2022[str(column)].isna().sum()}\")\n",
    "    print(f\"under zero count of {column} : {(df_2022[str(column)]<=0).sum()}\")\n",
    "    print(\"-----------\")"
   ],
   "metadata": {
    "collapsed": false,
    "pycharm": {
     "name": "#%%\n"
    }
   }
  },
  {
   "cell_type": "code",
   "execution_count": 81,
   "outputs": [],
   "source": [
    "df.drop(\"fw_1018680\", axis=1, inplace=True)\n",
    "df_2022.drop(\"fw_1018680\", axis=1, inplace=True)"
   ],
   "metadata": {
    "collapsed": false,
    "pycharm": {
     "name": "#%%\n"
    }
   }
  },
  {
   "cell_type": "code",
   "execution_count": 82,
   "outputs": [],
   "source": [
    "df.loc[df[\"fw_1018683\"] <= 0, \"fw_1018683\"] = np.nan\n",
    "df_2022.loc[df_2022[\"fw_1018683\"] <= 0, \"fw_1018683\"] = np.nan"
   ],
   "metadata": {
    "collapsed": false,
    "pycharm": {
     "name": "#%%\n"
    }
   }
  },
  {
   "cell_type": "code",
   "execution_count": 83,
   "outputs": [
    {
     "name": "stdout",
     "output_type": "stream",
     "text": [
      "(264960, 15)\n",
      "nan count of fw_1018662 : 13195\n",
      "under zero count of fw_1018662 : 0\n",
      "-----------\n",
      "nan count of fw_1018683 : 27881\n",
      "under zero count of fw_1018683 : 0\n",
      "-----------\n",
      "nan count of fw_1019630 : 59\n",
      "under zero count of fw_1019630 : 0\n",
      "-----------\n",
      "\n",
      "(11376, 14)\n",
      "nan count of fw_1018662 : 3185\n",
      "under zero count of fw_1018662 : 0\n",
      "-----------\n",
      "nan count of fw_1018683 : 1158\n",
      "under zero count of fw_1018683 : 0\n",
      "-----------\n",
      "nan count of fw_1019630 : 0\n",
      "under zero count of fw_1019630 : 0\n",
      "-----------\n"
     ]
    }
   ],
   "source": [
    "columns = [\"fw_1018662\",\"fw_1018683\", \"fw_1019630\"]\n",
    "print(df.shape)\n",
    "for column in columns:\n",
    "    print(f\"nan count of {column} : {df[str(column)].isna().sum()}\")\n",
    "    print(f\"under zero count of {column} : {(df[str(column)]<=0).sum()}\")\n",
    "    print(\"-----------\")\n",
    "\n",
    "print()\n",
    "print(df_2022.shape)\n",
    "for column in columns:\n",
    "    print(f\"nan count of {column} : {df_2022[str(column)].isna().sum()}\")\n",
    "    print(f\"under zero count of {column} : {(df_2022[str(column)]<=0).sum()}\")\n",
    "    print(\"-----------\")"
   ],
   "metadata": {
    "collapsed": false,
    "pycharm": {
     "name": "#%%\n"
    }
   }
  },
  {
   "cell_type": "code",
   "execution_count": 87,
   "outputs": [
    {
     "name": "stderr",
     "output_type": "stream",
     "text": [
      "100%|██████████| 264959/264959 [00:06<00:00, 41806.97it/s]\n"
     ]
    },
    {
     "name": "stdout",
     "output_type": "stream",
     "text": [
      "(251081, 3)\n",
      "(251081,)\n"
     ]
    },
    {
     "name": "stderr",
     "output_type": "stream",
     "text": [
      " 53%|█████▎    | 140274/264959 [08:10<07:16, 285.75it/s]\n"
     ]
    },
    {
     "ename": "KeyboardInterrupt",
     "evalue": "",
     "output_type": "error",
     "traceback": [
      "\u001B[1;31m---------------------------------------------------------------------------\u001B[0m",
      "\u001B[1;31mKeyboardInterrupt\u001B[0m                         Traceback (most recent call last)",
      "\u001B[1;32m~\\AppData\\Local\\Temp/ipykernel_24292/1463889432.py\u001B[0m in \u001B[0;36m<module>\u001B[1;34m\u001B[0m\n\u001B[0;32m     35\u001B[0m         \u001B[1;31m# 추론할 값이 NAN이어야 함\u001B[0m\u001B[1;33m\u001B[0m\u001B[1;33m\u001B[0m\u001B[1;33m\u001B[0m\u001B[0m\n\u001B[0;32m     36\u001B[0m         \u001B[1;32mif\u001B[0m \u001B[0mdf\u001B[0m\u001B[1;33m[\u001B[0m\u001B[0mtarget_column\u001B[0m\u001B[1;33m]\u001B[0m\u001B[1;33m[\u001B[0m\u001B[0mi\u001B[0m\u001B[1;33m+\u001B[0m\u001B[1;36m1\u001B[0m\u001B[1;33m]\u001B[0m \u001B[1;33m!=\u001B[0m \u001B[0mdf\u001B[0m\u001B[1;33m[\u001B[0m\u001B[1;34m\"tototf\"\u001B[0m\u001B[1;33m]\u001B[0m\u001B[1;33m[\u001B[0m\u001B[0mi\u001B[0m\u001B[1;33m+\u001B[0m\u001B[1;36m1\u001B[0m\u001B[1;33m]\u001B[0m\u001B[1;33m:\u001B[0m\u001B[1;33m\u001B[0m\u001B[1;33m\u001B[0m\u001B[0m\n\u001B[1;32m---> 37\u001B[1;33m             \u001B[0mdf\u001B[0m\u001B[1;33m[\u001B[0m\u001B[0mtarget_column\u001B[0m\u001B[1;33m]\u001B[0m\u001B[1;33m[\u001B[0m\u001B[0mi\u001B[0m\u001B[1;33m+\u001B[0m\u001B[1;36m1\u001B[0m\u001B[1;33m]\u001B[0m \u001B[1;33m=\u001B[0m \u001B[0mmodel\u001B[0m\u001B[1;33m.\u001B[0m\u001B[0mpredict\u001B[0m\u001B[1;33m(\u001B[0m\u001B[0mnp\u001B[0m\u001B[1;33m.\u001B[0m\u001B[0marray\u001B[0m\u001B[1;33m(\u001B[0m\u001B[1;33m[\u001B[0m\u001B[0mdf\u001B[0m\u001B[1;33m[\u001B[0m\u001B[1;34m\"tototf\"\u001B[0m\u001B[1;33m]\u001B[0m\u001B[1;33m[\u001B[0m\u001B[0mi\u001B[0m\u001B[1;33m]\u001B[0m\u001B[1;33m,\u001B[0m \u001B[0mdf\u001B[0m\u001B[1;33m[\u001B[0m\u001B[1;34m\"inf\"\u001B[0m\u001B[1;33m]\u001B[0m\u001B[1;33m[\u001B[0m\u001B[0mi\u001B[0m\u001B[1;33m]\u001B[0m\u001B[1;33m,\u001B[0m \u001B[0mdf\u001B[0m\u001B[1;33m[\u001B[0m\u001B[0mtarget_column\u001B[0m\u001B[1;33m]\u001B[0m\u001B[1;33m[\u001B[0m\u001B[0mi\u001B[0m\u001B[1;33m]\u001B[0m\u001B[1;33m]\u001B[0m\u001B[1;33m)\u001B[0m\u001B[1;33m.\u001B[0m\u001B[0mreshape\u001B[0m\u001B[1;33m(\u001B[0m\u001B[1;36m1\u001B[0m\u001B[1;33m,\u001B[0m\u001B[1;33m-\u001B[0m\u001B[1;36m1\u001B[0m\u001B[1;33m)\u001B[0m\u001B[1;33m)\u001B[0m\u001B[1;33m\u001B[0m\u001B[1;33m\u001B[0m\u001B[0m\n\u001B[0m\u001B[0;32m     38\u001B[0m \u001B[1;33m\u001B[0m\u001B[0m\n\u001B[0;32m     39\u001B[0m \u001B[1;32mfor\u001B[0m \u001B[0mi\u001B[0m \u001B[1;32min\u001B[0m \u001B[0mtqdm\u001B[0m\u001B[1;33m(\u001B[0m\u001B[0mrange\u001B[0m\u001B[1;33m(\u001B[0m\u001B[0mlen\u001B[0m\u001B[1;33m(\u001B[0m\u001B[0mdf_2022\u001B[0m\u001B[1;33m[\u001B[0m\u001B[0mtarget_column\u001B[0m\u001B[1;33m]\u001B[0m\u001B[1;33m)\u001B[0m\u001B[1;33m-\u001B[0m\u001B[1;36m1\u001B[0m\u001B[1;33m)\u001B[0m\u001B[1;33m)\u001B[0m\u001B[1;33m:\u001B[0m\u001B[1;33m\u001B[0m\u001B[1;33m\u001B[0m\u001B[0m\n",
      "\u001B[1;32m~\\anaconda3\\envs\\data\\lib\\site-packages\\xgboost\\sklearn.py\u001B[0m in \u001B[0;36mpredict\u001B[1;34m(self, X, output_margin, ntree_limit, validate_features, base_margin, iteration_range)\u001B[0m\n\u001B[0;32m    826\u001B[0m                     \u001B[0mvalidate_features\u001B[0m\u001B[1;33m=\u001B[0m\u001B[0mvalidate_features\u001B[0m\u001B[1;33m,\u001B[0m\u001B[1;33m\u001B[0m\u001B[1;33m\u001B[0m\u001B[0m\n\u001B[0;32m    827\u001B[0m                 )\n\u001B[1;32m--> 828\u001B[1;33m                 \u001B[1;32mif\u001B[0m \u001B[0m_is_cupy_array\u001B[0m\u001B[1;33m(\u001B[0m\u001B[0mpredts\u001B[0m\u001B[1;33m)\u001B[0m\u001B[1;33m:\u001B[0m\u001B[1;33m\u001B[0m\u001B[1;33m\u001B[0m\u001B[0m\n\u001B[0m\u001B[0;32m    829\u001B[0m                     \u001B[1;32mimport\u001B[0m \u001B[0mcupy\u001B[0m     \u001B[1;31m# pylint: disable=import-error\u001B[0m\u001B[1;33m\u001B[0m\u001B[1;33m\u001B[0m\u001B[0m\n\u001B[0;32m    830\u001B[0m                     \u001B[0mpredts\u001B[0m \u001B[1;33m=\u001B[0m \u001B[0mcupy\u001B[0m\u001B[1;33m.\u001B[0m\u001B[0masnumpy\u001B[0m\u001B[1;33m(\u001B[0m\u001B[0mpredts\u001B[0m\u001B[1;33m)\u001B[0m  \u001B[1;31m# ensure numpy array is used.\u001B[0m\u001B[1;33m\u001B[0m\u001B[1;33m\u001B[0m\u001B[0m\n",
      "\u001B[1;32m~\\anaconda3\\envs\\data\\lib\\site-packages\\xgboost\\data.py\u001B[0m in \u001B[0;36m_is_cupy_array\u001B[1;34m(data)\u001B[0m\n\u001B[0;32m    430\u001B[0m \u001B[1;32mdef\u001B[0m \u001B[0m_is_cupy_array\u001B[0m\u001B[1;33m(\u001B[0m\u001B[0mdata\u001B[0m\u001B[1;33m)\u001B[0m\u001B[1;33m:\u001B[0m\u001B[1;33m\u001B[0m\u001B[1;33m\u001B[0m\u001B[0m\n\u001B[0;32m    431\u001B[0m     \u001B[1;32mtry\u001B[0m\u001B[1;33m:\u001B[0m\u001B[1;33m\u001B[0m\u001B[1;33m\u001B[0m\u001B[0m\n\u001B[1;32m--> 432\u001B[1;33m         \u001B[1;32mimport\u001B[0m \u001B[0mcupy\u001B[0m\u001B[1;33m\u001B[0m\u001B[1;33m\u001B[0m\u001B[0m\n\u001B[0m\u001B[0;32m    433\u001B[0m     \u001B[1;32mexcept\u001B[0m \u001B[0mImportError\u001B[0m\u001B[1;33m:\u001B[0m\u001B[1;33m\u001B[0m\u001B[1;33m\u001B[0m\u001B[0m\n\u001B[0;32m    434\u001B[0m         \u001B[1;32mreturn\u001B[0m \u001B[1;32mFalse\u001B[0m\u001B[1;33m\u001B[0m\u001B[1;33m\u001B[0m\u001B[0m\n",
      "\u001B[1;32m~\\anaconda3\\envs\\data\\lib\\importlib\\_bootstrap.py\u001B[0m in \u001B[0;36m_find_and_load\u001B[1;34m(name, import_)\u001B[0m\n",
      "\u001B[1;32m~\\anaconda3\\envs\\data\\lib\\importlib\\_bootstrap.py\u001B[0m in \u001B[0;36m_find_and_load_unlocked\u001B[1;34m(name, import_)\u001B[0m\n",
      "\u001B[1;32m~\\anaconda3\\envs\\data\\lib\\importlib\\_bootstrap.py\u001B[0m in \u001B[0;36m_find_spec\u001B[1;34m(name, path, target)\u001B[0m\n",
      "\u001B[1;32m~\\anaconda3\\envs\\data\\lib\\importlib\\_bootstrap_external.py\u001B[0m in \u001B[0;36mfind_spec\u001B[1;34m(cls, fullname, path, target)\u001B[0m\n",
      "\u001B[1;32m~\\anaconda3\\envs\\data\\lib\\importlib\\_bootstrap_external.py\u001B[0m in \u001B[0;36m_get_spec\u001B[1;34m(cls, fullname, path, target)\u001B[0m\n",
      "\u001B[1;32m~\\anaconda3\\envs\\data\\lib\\importlib\\_bootstrap_external.py\u001B[0m in \u001B[0;36mfind_spec\u001B[1;34m(self, fullname, target)\u001B[0m\n",
      "\u001B[1;32m~\\anaconda3\\envs\\data\\lib\\importlib\\_bootstrap_external.py\u001B[0m in \u001B[0;36m_path_stat\u001B[1;34m(path)\u001B[0m\n",
      "\u001B[1;31mKeyboardInterrupt\u001B[0m: "
     ]
    }
   ],
   "source": [
    "# 훈련 데이터 수집 : (tototf, inf) : fw_1018662\n",
    "\n",
    "train_data = []\n",
    "train_label = []\n",
    "train_data_append = train_data.append\n",
    "train_label_append = train_label.append\n",
    "\n",
    "df = dict(df)\n",
    "target_column = \"fw_1018662\"\n",
    "for j in tqdm(range(len(df[target_column])-1)):\n",
    "    # 라벨이 nan이면 패스\n",
    "    if df[target_column][j+1] != df[target_column][j+1]:\n",
    "        continue\n",
    "\n",
    "    # 데이터가 nan이면 패스\n",
    "    if df[target_column][j] != df[target_column][j]:\n",
    "        continue\n",
    "\n",
    "    train_data_append([df[\"tototf\"][j], df[\"inf\"][j], df[target_column][j]])\n",
    "    train_label_append(df[target_column][j+1])\n",
    "\n",
    "print(np.array(train_data).shape)\n",
    "print(np.array(train_label).shape)\n",
    "train_data = np.array(train_data)\n",
    "train_label = np.array(train_label)\n",
    "\n",
    "model = XGBRegressor()\n",
    "model.fit(train_data, train_label)\n",
    "\n",
    "# dict 리팩토링 완료\n",
    "\n",
    "for i in tqdm(range(len(df[target_column])-1)):\n",
    "    # 타겟이 다음 년도 데이터일 때\n",
    "    if i % 26496 != 0:\n",
    "        # 추론할 값이 NAN이어야 함\n",
    "        if df[target_column][i+1] != df[\"tototf\"][i+1]:\n",
    "            df[target_column][i+1] = model.predict(np.array([df[\"tototf\"][i], df[\"inf\"][i], df[target_column][i]]).reshape(1,-1))\n",
    "\n",
    "for i in tqdm(range(len(df_2022[target_column])-1)):\n",
    "    if df_2022[target_column][i+1] != df_2022[\"tototf\"][i+1]:\n",
    "        df_2022[target_column][i+1] = model.predict(np.array([df_2022[\"tototf\"][i], df_2022[\"inf\"][i], df_2022[target_column][i]]).reshape(1,-1))\n"
   ],
   "metadata": {
    "collapsed": false,
    "pycharm": {
     "name": "#%%\n"
    }
   }
  },
  {
   "cell_type": "code",
   "execution_count": null,
   "outputs": [],
   "source": [
    "columns = [\"fw_1018662\"]\n",
    "print(df.shape)\n",
    "for column in columns:\n",
    "    print(f\"nan count of {column} : {df[str(column)].isna().sum()}\")\n",
    "    print(f\"under zero count of {column} : {(df[str(column)]<=0).sum()}\")\n",
    "    print(\"-----------\")\n",
    "\n",
    "print()\n",
    "print(df_2022.shape)\n",
    "for column in columns:\n",
    "    print(f\"nan count of {column} : {df_2022[str(column)].isna().sum()}\")\n",
    "    print(f\"under zero count of {column} : {(df_2022[str(column)]<=0).sum()}\")\n",
    "    print(\"-----------\")"
   ],
   "metadata": {
    "collapsed": false,
    "pycharm": {
     "name": "#%%\n"
    }
   }
  },
  {
   "cell_type": "code",
   "execution_count": null,
   "outputs": [],
   "source": [
    "# 훈련 데이터 수집 : (tototf, inf) : fw_1018683\n",
    "\n",
    "train_data = []\n",
    "train_label = []\n",
    "train_data_append = train_data.append\n",
    "train_label_append = train_label.append\n",
    "\n",
    "df = dict(df)\n",
    "target_column = \"fw_1018683\"\n",
    "for j in tqdm(range(len(df[target_column])-1)):\n",
    "    # 라벨이 nan이면 패스\n",
    "    if df[target_column][j+1] != df[target_column][j+1]:\n",
    "        continue\n",
    "\n",
    "    # 데이터가 nan이면 패스\n",
    "    if df[target_column][j] != df[target_column][j]:\n",
    "        continue\n",
    "\n",
    "    train_data_append([df[\"tototf\"][j], df[\"inf\"][j], df[target_column][j]])\n",
    "    train_label_append(df[target_column][j+1])\n",
    "\n",
    "print(np.array(train_data).shape)\n",
    "print(np.array(train_label).shape)\n",
    "train_data = np.array(train_data)\n",
    "train_label = np.array(train_label)\n",
    "\n",
    "model = XGBRegressor()\n",
    "model.fit(train_data, train_label)\n",
    "\n",
    "# dict 리팩토링 완료\n",
    "\n",
    "for i in tqdm(range(len(df[target_column])-1)):\n",
    "    # 타겟이 다음 년도 데이터일 때\n",
    "    if i % 26496 != 0:\n",
    "        # 추론할 값이 NAN이어야 함\n",
    "        if df[target_column][i+1] != df[\"tototf\"][i+1]:\n",
    "            df[target_column][i+1] = model.predict(np.array([df[\"tototf\"][i], df[\"inf\"][i], df[target_column][i]]).reshape(1,-1))\n",
    "\n",
    "for i in tqdm(range(len(df_2022[target_column])-1)):\n",
    "    if df_2022[target_column][i+1] != df_2022[\"tototf\"][i+1]:\n",
    "        df_2022[target_column][i+1] = model.predict(np.array([df_2022[\"tototf\"][i], df_2022[\"inf\"][i], df_2022[target_column][i]]).reshape(1,-1))\n"
   ],
   "metadata": {
    "collapsed": false,
    "pycharm": {
     "name": "#%%\n"
    }
   }
  },
  {
   "cell_type": "code",
   "execution_count": null,
   "outputs": [],
   "source": [
    "columns = [\"fw_1018683\"]\n",
    "print(df.shape)\n",
    "for column in columns:\n",
    "    print(f\"nan count of {column} : {df[str(column)].isna().sum()}\")\n",
    "    print(f\"under zero count of {column} : {(df[str(column)]<=0).sum()}\")\n",
    "    print(\"-----------\")\n",
    "\n",
    "print()\n",
    "print(df_2022.shape)\n",
    "for column in columns:\n",
    "    print(f\"nan count of {column} : {df_2022[str(column)].isna().sum()}\")\n",
    "    print(f\"under zero count of {column} : {(df_2022[str(column)]<=0).sum()}\")\n",
    "    print(\"-----------\")"
   ],
   "metadata": {
    "collapsed": false,
    "pycharm": {
     "name": "#%%\n"
    }
   }
  },
  {
   "cell_type": "code",
   "execution_count": null,
   "outputs": [],
   "source": [
    "# 훈련 데이터 수집 : (tototf, inf) : fw_1019630\n",
    "\n",
    "train_data = []\n",
    "train_label = []\n",
    "train_data_append = train_data.append\n",
    "train_label_append = train_label.append\n",
    "\n",
    "df = dict(df)\n",
    "target_column = \"fw_1019630\"\n",
    "for j in tqdm(range(len(df[target_column])-1)):\n",
    "    # 라벨이 nan이면 패스\n",
    "    if df[target_column][j+1] != df[target_column][j+1]:\n",
    "        continue\n",
    "\n",
    "    # 데이터가 nan이면 패스\n",
    "    if df[target_column][j] != df[target_column][j]:\n",
    "        continue\n",
    "\n",
    "    train_data_append([df[\"tototf\"][j], df[\"inf\"][j], df[target_column][j]])\n",
    "    train_label_append(df[target_column][j+1])\n",
    "\n",
    "print(np.array(train_data).shape)\n",
    "print(np.array(train_label).shape)\n",
    "train_data = np.array(train_data)\n",
    "train_label = np.array(train_label)\n",
    "\n",
    "model = XGBRegressor()\n",
    "model.fit(train_data, train_label)\n",
    "\n",
    "# dict 리팩토링 완료\n",
    "\n",
    "for i in tqdm(range(len(df[target_column])-1)):\n",
    "    # 타겟이 다음 년도 데이터일 때\n",
    "    if i % 26496 != 0:\n",
    "        # 추론할 값이 NAN이어야 함\n",
    "        if df[target_column][i+1] != df[\"tototf\"][i+1]:\n",
    "            df[target_column][i+1] = model.predict(np.array([df[\"tototf\"][i], df[\"inf\"][i], df[target_column][i]]).reshape(1,-1))\n",
    "\n",
    "for i in tqdm(range(len(df_2022[target_column])-1)):\n",
    "    if df_2022[target_column][i+1] != df_2022[\"tototf\"][i+1]:\n",
    "        df_2022[target_column][i+1] = model.predict(np.array([df_2022[\"tototf\"][i], df_2022[\"inf\"][i], df_2022[target_column][i]]).reshape(1,-1))\n"
   ],
   "metadata": {
    "collapsed": false,
    "pycharm": {
     "name": "#%%\n"
    }
   }
  },
  {
   "cell_type": "code",
   "execution_count": null,
   "outputs": [],
   "source": [
    "columns = [\"fw_1018662\", \"fw_1018683\", \"fw_1019630\"]\n",
    "print(df.shape)\n",
    "for column in columns:\n",
    "    print(f\"nan count of {column} : {df[str(column)].isna().sum()}\")\n",
    "    print(f\"under zero count of {column} : {(df[str(column)]<=0).sum()}\")\n",
    "    print(\"-----------\")\n",
    "\n",
    "print()\n",
    "print(df_2022.shape)\n",
    "for column in columns:\n",
    "    print(f\"nan count of {column} : {df_2022[str(column)].isna().sum()}\")\n",
    "    print(f\"under zero count of {column} : {(df_2022[str(column)]<=0).sum()}\")\n",
    "    print(\"-----------\")"
   ],
   "metadata": {
    "collapsed": false,
    "pycharm": {
     "name": "#%%\n"
    }
   }
  },
  {
   "cell_type": "code",
   "execution_count": 37,
   "outputs": [],
   "source": [
    "df.to_csv(\"data_2012~2021 impute_tototf+inf+wl+fw.csv\")"
   ],
   "metadata": {
    "collapsed": false,
    "pycharm": {
     "name": "#%%\n"
    }
   }
  }
 ],
 "metadata": {
  "kernelspec": {
   "display_name": "Python 3",
   "language": "python",
   "name": "python3"
  },
  "language_info": {
   "codemirror_mode": {
    "name": "ipython",
    "version": 2
   },
   "file_extension": ".py",
   "mimetype": "text/x-python",
   "name": "python",
   "nbconvert_exporter": "python",
   "pygments_lexer": "ipython2",
   "version": "2.7.6"
  }
 },
 "nbformat": 4,
 "nbformat_minor": 0
}