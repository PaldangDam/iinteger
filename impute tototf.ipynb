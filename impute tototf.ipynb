{
 "cells": [
  {
   "cell_type": "code",
   "execution_count": 43,
   "metadata": {
    "collapsed": true
   },
   "outputs": [],
   "source": [
    "import pandas as pd\n",
    "import numpy as np\n",
    "from glob import glob\n",
    "from tqdm import tqdm\n",
    "from scipy import interpolate\n",
    "from xgboost import XGBRegressor\n",
    "from sklearn.linear_model import LinearRegression\n",
    "from sklearn.ensemble import RandomForestRegressor\n",
    "from sklearn.model_selection import train_test_split\n",
    "from sklearn.metrics import mean_absolute_error"
   ]
  },
  {
   "cell_type": "code",
   "execution_count": 15,
   "outputs": [],
   "source": [
    "w_list = sorted(glob(\"data/water_data/*.csv\"))"
   ],
   "metadata": {
    "collapsed": false,
    "pycharm": {
     "name": "#%%\n"
    }
   }
  },
  {
   "cell_type": "code",
   "execution_count": 41,
   "outputs": [
    {
     "name": "stderr",
     "output_type": "stream",
     "text": [
      "100%|██████████| 26495/26495 [00:02<00:00, 10185.44it/s]\n",
      "100%|██████████| 26495/26495 [00:01<00:00, 19163.97it/s]\n",
      "100%|██████████| 26495/26495 [00:01<00:00, 22606.73it/s]\n",
      "100%|██████████| 26495/26495 [00:01<00:00, 17561.18it/s]\n",
      "100%|██████████| 26495/26495 [00:01<00:00, 24118.46it/s]\n",
      "100%|██████████| 26495/26495 [00:01<00:00, 19199.57it/s]\n",
      "100%|██████████| 26495/26495 [00:01<00:00, 25608.66it/s]\n",
      "100%|██████████| 26495/26495 [00:01<00:00, 18354.24it/s]\n",
      "100%|██████████| 26495/26495 [00:01<00:00, 24750.39it/s]\n",
      "100%|██████████| 26495/26495 [00:01<00:00, 19950.28it/s]\n"
     ]
    }
   ],
   "source": [
    "# 훈련 데이터 수집\n",
    "# 실험 결과 \"tototf\", \"fw_1019630\" 두가지만 사용할때가 가장 좋았음\n",
    "# iloc로 참조시 650초 소요\n",
    "# dict로 바꿔서 참조시 11초 소요\n",
    "\n",
    "train_data = []\n",
    "train_label = []\n",
    "train_data_append = train_data.append\n",
    "train_label_append = train_label.append\n",
    "for i in w_list[:-1]:\n",
    "    tmp = pd.read_csv(i)\n",
    "    tmp = tmp.replace(\" \", np.nan)\n",
    "    tmp = dict(tmp)\n",
    "    for j in tqdm(range(len(tmp[\"tototf\"])-1)):\n",
    "        # 라벨이 이상하면 패스 : 0이하이거나, nan이거나, 20000 이상의 이상치거나\n",
    "        #if (tmp.iloc[j+1][\"tototf\"] <= 0) or (tmp.iloc[j+1][\"tototf\"] != tmp.iloc[j+1][\"tototf\"]) or (tmp.iloc[j+1][\"tototf\"] > 20000):\n",
    "        if (tmp[\"tototf\"][j+1] <= 0) or (tmp[\"tototf\"][j+1] != tmp[\"tototf\"][j+1]) or (tmp[\"tototf\"][j+1] > 20000):\n",
    "            continue\n",
    "        # 데이터가 이상하면 패스\n",
    "        #if (tmp.iloc[j][\"tototf\"] <= 0) or (tmp.iloc[j][\"tototf\"] != tmp.iloc[j][\"tototf\"]) or (tmp.iloc[j][\"tototf\"] > 20000):\n",
    "        if (tmp[\"tototf\"][j] <= 0) or (tmp[\"tototf\"][j] != tmp[\"tototf\"][j]) or (tmp[\"tototf\"][j] > 20000):\n",
    "            continue\n",
    "        if (tmp[\"fw_1019630\"][j] <= 0) or (tmp[\"fw_1019630\"][j] != tmp[\"fw_1019630\"][j]):\n",
    "            continue\n",
    "\n",
    "        train_data_append([tmp[\"tototf\"][j], tmp[\"fw_1019630\"][j]])\n",
    "        train_label_append(tmp[\"tototf\"][j+1])"
   ],
   "metadata": {
    "collapsed": false,
    "pycharm": {
     "name": "#%%\n"
    }
   }
  },
  {
   "cell_type": "code",
   "execution_count": 44,
   "outputs": [
    {
     "name": "stdout",
     "output_type": "stream",
     "text": [
      "(263498, 2)\n",
      "(263498,)\n"
     ]
    }
   ],
   "source": [
    "print(np.array(train_data).shape)\n",
    "print(np.array(train_label).shape)\n",
    "train_data = np.array(train_data)\n",
    "train_label = np.array(train_label)\n",
    "\n",
    "# 263498"
   ],
   "metadata": {
    "collapsed": false,
    "pycharm": {
     "name": "#%%\n"
    }
   }
  },
  {
   "cell_type": "code",
   "execution_count": 46,
   "outputs": [
    {
     "name": "stdout",
     "output_type": "stream",
     "text": [
      "10.130794506059829\n",
      "11.327235699497637\n",
      "13.410752935031894\n"
     ]
    }
   ],
   "source": [
    "# 검증\n",
    "\n",
    "X_train, X_test, y_train, y_test = train_test_split(train_data, train_label, test_size=0.2)\n",
    "\n",
    "model = LinearRegression()\n",
    "model.fit(X_train, y_train)\n",
    "print(mean_absolute_error(model.predict(X_test), y_test))\n",
    "model = XGBRegressor()\n",
    "model.fit(X_train, y_train)\n",
    "print(mean_absolute_error(model.predict(X_test), y_test))\n",
    "model = RandomForestRegressor()\n",
    "model.fit(X_train, y_train)\n",
    "print(mean_absolute_error(model.predict(X_test), y_test))"
   ],
   "metadata": {
    "collapsed": false,
    "pycharm": {
     "name": "#%%\n"
    }
   }
  },
  {
   "cell_type": "code",
   "execution_count": 47,
   "outputs": [
    {
     "data": {
      "text/plain": "LinearRegression()"
     },
     "execution_count": 47,
     "metadata": {},
     "output_type": "execute_result"
    }
   ],
   "source": [
    "model = LinearRegression()\n",
    "model.fit(train_data, train_label)"
   ],
   "metadata": {
    "collapsed": false,
    "pycharm": {
     "name": "#%%\n"
    }
   }
  },
  {
   "cell_type": "code",
   "execution_count": 48,
   "outputs": [
    {
     "ename": "AttributeError",
     "evalue": "'LinearRegression' object has no attribute 'feature_importances_'",
     "output_type": "error",
     "traceback": [
      "\u001B[1;31m---------------------------------------------------------------------------\u001B[0m",
      "\u001B[1;31mAttributeError\u001B[0m                            Traceback (most recent call last)",
      "\u001B[1;32m~\\AppData\\Local\\Temp/ipykernel_13724/2749191656.py\u001B[0m in \u001B[0;36m<module>\u001B[1;34m\u001B[0m\n\u001B[1;32m----> 1\u001B[1;33m \u001B[0mmodel\u001B[0m\u001B[1;33m.\u001B[0m\u001B[0mfeature_importances_\u001B[0m\u001B[1;33m\u001B[0m\u001B[1;33m\u001B[0m\u001B[0m\n\u001B[0m",
      "\u001B[1;31mAttributeError\u001B[0m: 'LinearRegression' object has no attribute 'feature_importances_'"
     ]
    }
   ],
   "source": [
    "model.feature_importances_"
   ],
   "metadata": {
    "collapsed": false,
    "pycharm": {
     "name": "#%%\n"
    }
   }
  },
  {
   "cell_type": "code",
   "execution_count": 49,
   "outputs": [],
   "source": [
    "w_list = sorted(glob(\"data/water_data/*.csv\"))"
   ],
   "metadata": {
    "collapsed": false,
    "pycharm": {
     "name": "#%%\n"
    }
   }
  },
  {
   "cell_type": "code",
   "execution_count": 54,
   "outputs": [
    {
     "name": "stdout",
     "output_type": "stream",
     "text": [
      "nan count of tototf : 707\n",
      "zero count of tototf : 446\n",
      "anomaly count of tototf : 2\n",
      "-----------\n",
      "nan count of tototf : 36\n",
      "zero count of tototf : 6\n",
      "anomaly count of tototf : 0\n"
     ]
    }
   ],
   "source": [
    "df = pd.read_csv(w_list[0], index_col=0)\n",
    "for i in w_list[1:-1]:\n",
    "    df = pd.concat([df, pd.read_csv(i, index_col=0)])\n",
    "df_2022 = pd.read_csv(w_list[-1], index_col=0)\n",
    "\n",
    "column = \"tototf\"\n",
    "print(f\"nan count of {column} : {df[str(column)].isna().sum()}\")\n",
    "print(f\"zero count of {column} : {(df[str(column)]<=0).sum()}\")\n",
    "print(f\"anomaly count of {column} : {(df[str(column)] > 20000).sum()}\")\n",
    "print(\"-----------\")\n",
    "print(f\"nan count of {column} : {df_2022[str(column)].isna().sum()}\")\n",
    "print(f\"zero count of {column} : {(df_2022[str(column)]<=0).sum()}\")\n",
    "print(f\"anomaly count of {column} : {(df_2022[str(column)] > 20000).sum()}\")\n",
    "impute_df = dict(df.copy())\n",
    "impute_2022 = dict(df_2022.copy())"
   ],
   "metadata": {
    "collapsed": false,
    "pycharm": {
     "name": "#%%\n"
    }
   }
  },
  {
   "cell_type": "code",
   "execution_count": 69,
   "outputs": [
    {
     "name": "stderr",
     "output_type": "stream",
     "text": [
      "\n",
      "  0%|          | 0/264959 [00:00<?, ?it/s]\u001B[A\n",
      "  4%|▍         | 9960/264959 [00:00<00:02, 98730.32it/s]\u001B[A\n",
      "  8%|▊         | 22210/264959 [00:00<00:02, 112394.23it/s]\u001B[A\n",
      " 13%|█▎        | 33683/264959 [00:00<00:02, 113058.16it/s]\u001B[A\n",
      " 17%|█▋        | 45092/264959 [00:00<00:01, 113168.34it/s]\u001B[A\n",
      " 22%|██▏       | 57208/264959 [00:00<00:01, 115788.86it/s]\u001B[A\n",
      " 26%|██▌       | 68788/264959 [00:00<00:01, 107136.87it/s]\u001B[A\n",
      " 31%|███       | 81582/264959 [00:00<00:01, 113249.85it/s]\u001B[A\n",
      " 35%|███▌      | 93306/264959 [00:00<00:01, 114169.69it/s]\u001B[A\n",
      " 40%|████      | 107129/264959 [00:00<00:01, 121233.61it/s]\u001B[A\n",
      " 45%|████▌     | 119322/264959 [00:01<00:01, 107489.81it/s]\u001B[A\n",
      " 49%|████▉     | 130383/264959 [00:01<00:01, 89132.97it/s] \u001B[A\n",
      " 53%|█████▎    | 140953/264959 [00:01<00:01, 93027.77it/s]\u001B[A\n",
      " 57%|█████▋    | 150809/264959 [00:01<00:01, 92057.07it/s]\u001B[A\n",
      " 61%|██████    | 160392/264959 [00:01<00:01, 74960.79it/s]\u001B[A\n",
      " 64%|██████▎   | 168595/264959 [00:01<00:01, 73080.33it/s]\u001B[A\n",
      " 67%|██████▋   | 176375/264959 [00:01<00:01, 71521.69it/s]\u001B[A\n",
      " 69%|██████▉   | 184063/264959 [00:01<00:01, 72806.27it/s]\u001B[A\n",
      " 72%|███████▏  | 191588/264959 [00:02<00:01, 72113.62it/s]\u001B[A\n",
      " 75%|███████▌  | 198964/264959 [00:02<00:00, 71472.89it/s]\u001B[A\n",
      " 79%|███████▊  | 208327/264959 [00:02<00:00, 77381.82it/s]\u001B[A\n",
      " 83%|████████▎ | 220178/264959 [00:02<00:00, 88740.34it/s]\u001B[A\n",
      " 87%|████████▋ | 229210/264959 [00:02<00:00, 83197.65it/s]\u001B[A\n",
      " 90%|█████████ | 239157/264959 [00:02<00:00, 87654.74it/s]\u001B[A\n",
      " 94%|█████████▍| 249531/264959 [00:02<00:00, 91952.61it/s]\u001B[A\n",
      "100%|██████████| 264959/264959 [00:02<00:00, 91946.82it/s]\u001B[A\n",
      "\n",
      "  0%|          | 0/11375 [00:00<?, ?it/s]\u001B[A\n",
      " 39%|███▊      | 4394/11375 [00:00<00:00, 43591.46it/s]\u001B[A\n",
      "100%|██████████| 11375/11375 [00:00<00:00, 50775.04it/s]\u001B[A\n"
     ]
    }
   ],
   "source": [
    "# dict 리팩토링 완료\n",
    "\n",
    "for i in tqdm(range(len(impute_df[\"tototf\"])-1)):\n",
    "    # 타겟이 0이하이거나 nan이거나 이상치일때\n",
    "    if (impute_df[\"tototf\"][i+1] <= 0) or (impute_df[\"tototf\"][i+1] != impute_df[\"tototf\"][i+1]) or (impute_df[\"tototf\"][i+1] > 20000):\n",
    "        # tototf 데이터가 모두 정상일때\n",
    "        if (impute_df[\"tototf\"][i] > 0) and (impute_df[\"tototf\"][i] == impute_df[\"tototf\"][i]) and (impute_df[\"tototf\"][i] <= 20000):\n",
    "            # fw_1019630 데이터가 모두 정상일때\n",
    "            if (impute_df[\"fw_1019630\"][i] > 0) and (impute_df[\"fw_1019630\"][i] == impute_df[\"fw_1019630\"][i]):\n",
    "                impute_df[\"tototf\"][i+1] = model.predict(np.array([impute_df[\"tototf\"][i], impute_df[\"fw_1019630\"][i]]).reshape(1,-1))\n",
    "\n",
    "for i in tqdm(range(len(df_2022[\"tototf\"])-1)):\n",
    "    if (df_2022[\"tototf\"][i+1] <= 0) or (df_2022[\"tototf\"][i+1] != df_2022[\"tototf\"][i+1]) or (df_2022[\"tototf\"][i+1] > 20000):\n",
    "        # tototf 데이터가 모두 정상일때\n",
    "        if (df_2022[\"tototf\"][i] > 0) and (df_2022[\"tototf\"][i] == df_2022[\"tototf\"][i]) and (df_2022[\"tototf\"][i] <= 20000):\n",
    "            # fw_1019630 데이터가 모두 정상일때\n",
    "            if (df_2022[\"fw_1019630\"][i] > 0) and (df_2022[\"fw_1019630\"][i] == df_2022[\"fw_1019630\"][i]):\n",
    "                df_2022[\"tototf\"][i+1] = model.predict(np.array([df_2022[\"tototf\"][i], df_2022[\"fw_1019630\"][i]]).reshape(1,-1))\n"
   ],
   "metadata": {
    "collapsed": false,
    "pycharm": {
     "name": "#%%\n"
    }
   }
  },
  {
   "cell_type": "code",
   "execution_count": 70,
   "outputs": [
    {
     "name": "stdout",
     "output_type": "stream",
     "text": [
      "nan count of tototf : 0\n",
      "zero count of tototf : 0\n",
      "anomaly count of tototf : 0\n",
      "-----------\n",
      "nan count of tototf : 0\n",
      "zero count of tototf : 0\n",
      "anomaly count of tototf : 0\n"
     ]
    }
   ],
   "source": [
    "impute_df = pd.DataFrame.from_dict(impute_df)\n",
    "df_2022 = pd.DataFrame.from_dict(df_2022)\n",
    "\n",
    "column = \"tototf\"\n",
    "print(f\"nan count of {column} : {impute_df[str(column)].isna().sum()}\")\n",
    "print(f\"zero count of {column} : {(impute_df[str(column)]<=0).sum()}\")\n",
    "print(f\"anomaly count of {column} : {(impute_df[str(column)] > 20000).sum()}\")\n",
    "print(\"-----------\")\n",
    "print(f\"nan count of {column} : {df_2022[str(column)].isna().sum()}\")\n",
    "print(f\"zero count of {column} : {(df_2022[str(column)]<=0).sum()}\")\n",
    "print(f\"anomaly count of {column} : {(df_2022[str(column)] > 20000).sum()}\")"
   ],
   "metadata": {
    "collapsed": false,
    "pycharm": {
     "name": "#%%\n"
    }
   }
  },
  {
   "cell_type": "code",
   "execution_count": 71,
   "outputs": [],
   "source": [
    "impute_df.to_csv(\"data_2012~2021 impute_tototf.csv\")\n",
    "df_2022.to_csv(\"data_2022 impute_tototf.csv\")"
   ],
   "metadata": {
    "collapsed": false,
    "pycharm": {
     "name": "#%%\n"
    }
   }
  },
  {
   "cell_type": "code",
   "execution_count": 74,
   "outputs": [
    {
     "data": {
      "text/plain": "[<matplotlib.lines.Line2D at 0x238faed9608>]"
     },
     "execution_count": 74,
     "metadata": {},
     "output_type": "execute_result"
    },
    {
     "data": {
      "text/plain": "<Figure size 432x288 with 1 Axes>",
      "image/png": "[encoded data removed]"
     },
     "metadata": {
      "needs_background": "light"
     },
     "output_type": "display_data"
    }
   ],
   "source": [
    "import matplotlib.pyplot as plt\n",
    "plt.plot(df[\"tototf\"].values)\n",
    "plt.plot(impute_df[\"tototf\"].values)"
   ],
   "metadata": {
    "collapsed": false,
    "pycharm": {
     "name": "#%%\n"
    }
   }
  }
 ],
 "metadata": {
  "kernelspec": {
   "display_name": "Python 3",
   "language": "python",
   "name": "python3"
  },
  "language_info": {
   "codemirror_mode": {
    "name": "ipython",
    "version": 2
   },
   "file_extension": ".py",
   "mimetype": "text/x-python",
   "name": "python",
   "nbconvert_exporter": "python",
   "pygments_lexer": "ipython2",
   "version": "2.7.6"
  }
 },
 "nbformat": 4,
 "nbformat_minor": 0
}