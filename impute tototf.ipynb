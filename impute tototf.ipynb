{
 "cells": [
  {
   "cell_type": "code",
   "execution_count": 1,
   "metadata": {
    "collapsed": true
   },
   "outputs": [],
   "source": [
    "import pandas as pd\n",
    "import numpy as np\n",
    "from glob import glob\n",
    "from tqdm import tqdm\n",
    "from scipy import interpolate\n",
    "from xgboost import XGBRegressor\n",
    "from sklearn.model_selection import train_test_split\n",
    "from sklearn.metrics import mean_absolute_error"
   ]
  },
  {
   "cell_type": "code",
   "execution_count": 2,
   "outputs": [],
   "source": [
    "w_list = sorted(glob(\"data/water_data/*.csv\"))"
   ],
   "metadata": {
    "collapsed": false,
    "pycharm": {
     "name": "#%%\n"
    }
   }
  },
  {
   "cell_type": "code",
   "execution_count": 3,
   "outputs": [
    {
     "name": "stderr",
     "output_type": "stream",
     "text": [
      "100%|██████████| 26495/26495 [00:38<00:00, 687.10it/s]\n",
      "100%|██████████| 26495/26495 [00:40<00:00, 660.94it/s]\n",
      "100%|██████████| 26495/26495 [00:47<00:00, 554.79it/s]\n",
      "100%|██████████| 26495/26495 [00:50<00:00, 526.82it/s]\n",
      "100%|██████████| 26495/26495 [00:39<00:00, 678.54it/s]\n",
      "100%|██████████| 26495/26495 [00:42<00:00, 629.51it/s]\n",
      "100%|██████████| 26495/26495 [00:42<00:00, 628.38it/s]\n",
      "100%|██████████| 26495/26495 [00:41<00:00, 634.38it/s]\n",
      "100%|██████████| 26495/26495 [00:44<00:00, 601.45it/s]\n",
      "100%|██████████| 26495/26495 [00:44<00:00, 594.82it/s]\n"
     ]
    }
   ],
   "source": [
    "# 훈련 데이터 수집\n",
    "# 실험 결과 \"tototf\", \"fw_1019630\" 두가지만 사용할때가 가장 좋았음\n",
    "\n",
    "train_data = []\n",
    "train_label = []\n",
    "train_data_append = train_data.append\n",
    "train_label_append = train_label.append\n",
    "for i in w_list[:-1]:\n",
    "    tmp = pd.read_csv(i)\n",
    "    tmp = tmp.replace(\" \", np.nan)\n",
    "\n",
    "    for j in tqdm(range(len(tmp)-1)):\n",
    "        # 라벨이 이상하면 패스 : 0이거나, nan이거나, 20000 이상의 이상치거나\n",
    "        if (tmp.iloc[j+1][\"tototf\"] == 0) or (tmp.iloc[j+1][\"tototf\"] != tmp.iloc[j+1][\"tototf\"]) or (tmp.iloc[j+1][\"tototf\"] > 20000):\n",
    "            continue\n",
    "        # 데이터가 이상하면 패스\n",
    "        if (tmp.iloc[j][\"tototf\"] == 0) or (tmp.iloc[j][\"tototf\"] != tmp.iloc[j][\"tototf\"]) or (tmp.iloc[j][\"tototf\"] > 20000):\n",
    "            continue\n",
    "        if (tmp.iloc[j][\"fw_1019630\"] == 0) or (tmp.iloc[j][\"fw_1019630\"] != tmp.iloc[j][\"fw_1019630\"]):\n",
    "            continue\n",
    "\n",
    "        train_data_append(tmp.iloc[j][[\"tototf\", \"fw_1019630\"]])\n",
    "        train_label_append(tmp.iloc[j+1][\"tototf\"])"
   ],
   "metadata": {
    "collapsed": false,
    "pycharm": {
     "name": "#%%\n"
    }
   }
  },
  {
   "cell_type": "code",
   "execution_count": 4,
   "outputs": [
    {
     "name": "stdout",
     "output_type": "stream",
     "text": [
      "(263506, 2)\n",
      "(263506,)\n"
     ]
    }
   ],
   "source": [
    "print(np.array(train_data).shape)\n",
    "print(np.array(train_label).shape)\n",
    "train_data = np.array(train_data)\n",
    "train_label = np.array(train_label)"
   ],
   "metadata": {
    "collapsed": false,
    "pycharm": {
     "name": "#%%\n"
    }
   }
  },
  {
   "cell_type": "code",
   "execution_count": 5,
   "outputs": [
    {
     "name": "stdout",
     "output_type": "stream",
     "text": [
      "11.508948059313655\n"
     ]
    }
   ],
   "source": [
    "# 검증\n",
    "\n",
    "X_train, X_test, y_train, y_test = train_test_split(train_data, train_label, test_size=0.2)\n",
    "\n",
    "model = XGBRegressor()\n",
    "model.fit(X_train, y_train)\n",
    "print(mean_absolute_error(model.predict(X_test), y_test))"
   ],
   "metadata": {
    "collapsed": false,
    "pycharm": {
     "name": "#%%\n"
    }
   }
  },
  {
   "cell_type": "code",
   "execution_count": 6,
   "outputs": [
    {
     "data": {
      "text/plain": "XGBRegressor(base_score=0.5, booster='gbtree', colsample_bylevel=1,\n             colsample_bynode=1, colsample_bytree=1, gamma=0, gpu_id=-1,\n             importance_type='gain', interaction_constraints='',\n             learning_rate=0.300000012, max_delta_step=0, max_depth=6,\n             min_child_weight=1, missing=nan, monotone_constraints='()',\n             n_estimators=100, n_jobs=4, num_parallel_tree=1, random_state=0,\n             reg_alpha=0, reg_lambda=1, scale_pos_weight=1, subsample=1,\n             tree_method='exact', validate_parameters=1, verbosity=None)"
     },
     "execution_count": 6,
     "metadata": {},
     "output_type": "execute_result"
    }
   ],
   "source": [
    "model = XGBRegressor()\n",
    "model.fit(train_data, train_label)"
   ],
   "metadata": {
    "collapsed": false,
    "pycharm": {
     "name": "#%%\n"
    }
   }
  },
  {
   "cell_type": "code",
   "execution_count": 7,
   "outputs": [
    {
     "data": {
      "text/plain": "array([9.993768e-01, 6.231940e-04], dtype=float32)"
     },
     "execution_count": 7,
     "metadata": {},
     "output_type": "execute_result"
    }
   ],
   "source": [
    "model.feature_importances_"
   ],
   "metadata": {
    "collapsed": false,
    "pycharm": {
     "name": "#%%\n"
    }
   }
  },
  {
   "cell_type": "code",
   "execution_count": 8,
   "outputs": [],
   "source": [
    "w_list = sorted(glob(\"data/water_data/*.csv\"))"
   ],
   "metadata": {
    "collapsed": false,
    "pycharm": {
     "name": "#%%\n"
    }
   }
  },
  {
   "cell_type": "code",
   "execution_count": 9,
   "outputs": [
    {
     "name": "stdout",
     "output_type": "stream",
     "text": [
      "nan count of tototf : 707\n",
      "zero count of tototf : 441\n",
      "anomaly count of tototf : 2\n",
      "-----------\n",
      "nan count of tototf : 36\n",
      "zero count of tototf : 6\n",
      "anomaly count of tototf : 0\n"
     ]
    }
   ],
   "source": [
    "df = pd.read_csv(w_list[0], index_col=0)\n",
    "for i in w_list[1:-1]:\n",
    "    df = pd.concat([df, pd.read_csv(i, index_col=0)])\n",
    "df_2022 = pd.read_csv(w_list[-1], index_col=0)\n",
    "\n",
    "column = \"tototf\"\n",
    "print(f\"nan count of {column} : {df[str(column)].isna().sum()}\")\n",
    "print(f\"zero count of {column} : {(df[str(column)]==0).sum()}\")\n",
    "print(f\"anomaly count of {column} : {(df[str(column)] > 20000).sum()}\")\n",
    "print(\"-----------\")\n",
    "print(f\"nan count of {column} : {df_2022[str(column)].isna().sum()}\")\n",
    "print(f\"zero count of {column} : {(df_2022[str(column)]==0).sum()}\")\n",
    "print(f\"anomaly count of {column} : {(df_2022[str(column)] > 20000).sum()}\")\n",
    "impute_df = df.copy()\n",
    "impute_2022 = df_2022.copy()"
   ],
   "metadata": {
    "collapsed": false,
    "pycharm": {
     "name": "#%%\n"
    }
   }
  },
  {
   "cell_type": "code",
   "execution_count": 10,
   "outputs": [
    {
     "name": "stderr",
     "output_type": "stream",
     "text": [
      "100%|██████████| 264959/264959 [01:21<00:00, 3262.51it/s]\n",
      "100%|██████████| 11375/11375 [00:03<00:00, 3336.25it/s]\n"
     ]
    }
   ],
   "source": [
    "for i in tqdm(range(len(impute_df)-1)):\n",
    "    if (impute_df.iloc[i+1][\"tototf\"] == 0) or (impute_df.iloc[i+1][\"tototf\"] != impute_df.iloc[i+1][\"tototf\"]) or (impute_df.iloc[i+1][\"tototf\"] > 20000):  # 타겟이 0이거나 nan이거나 이상치일때\n",
    "        if (impute_df.iloc[i][\"tototf\"] != 0) and (impute_df.iloc[i][\"tototf\"] == impute_df.iloc[i][\"tototf\"]) and (impute_df.iloc[i][\"tototf\"] <= 20000):\n",
    "            if (impute_df.iloc[i][\"fw_1019630\"] != 0) and (impute_df.iloc[i][\"fw_1019630\"] == impute_df.iloc[i][\"fw_1019630\"]):\n",
    "                impute_df.iloc[i+1][\"tototf\"] = model.predict(np.array(impute_df.iloc[i:i+1][[\"tototf\", \"fw_1019630\"]]))\n",
    "\n",
    "for i in tqdm(range(len(df_2022)-1)):\n",
    "    if (df_2022.iloc[i+1][\"tototf\"] == 0) or (df_2022.iloc[i+1][\"tototf\"] != df_2022.iloc[i+1][\"tototf\"]) or (df_2022.iloc[i+1][\"tototf\"] > 20000):  # 타겟이 0이거나 nan이거나 이상치일때\n",
    "        if (df_2022.iloc[i][\"tototf\"] != 0) and (df_2022.iloc[i][\"tototf\"] == df_2022.iloc[i][\"tototf\"]) and (df_2022.iloc[i][\"tototf\"] <= 20000):  # xptmxm\n",
    "            if (df_2022.iloc[i][\"fw_1019630\"] != 0) and (df_2022.iloc[i][\"fw_1019630\"] == df_2022.iloc[i][\"fw_1019630\"]):\n",
    "                df_2022.iloc[i+1][\"tototf\"] = model.predict(np.array(df_2022.iloc[i:i+1][[\"tototf\", \"fw_1019630\"]]))\n"
   ],
   "metadata": {
    "collapsed": false,
    "pycharm": {
     "name": "#%%\n"
    }
   }
  },
  {
   "cell_type": "code",
   "execution_count": 11,
   "outputs": [
    {
     "name": "stdout",
     "output_type": "stream",
     "text": [
      "nan count of tototf : 0\n",
      "zero count of tototf : 0\n",
      "anomaly count of tototf : 0\n",
      "-----------\n",
      "nan count of tototf : 0\n",
      "zero count of tototf : 0\n",
      "anomaly count of tototf : 0\n"
     ]
    }
   ],
   "source": [
    "column = \"tototf\"\n",
    "print(f\"nan count of {column} : {impute_df[str(column)].isna().sum()}\")\n",
    "print(f\"zero count of {column} : {(impute_df[str(column)]==0).sum()}\")\n",
    "print(f\"anomaly count of {column} : {(impute_df[str(column)] > 20000).sum()}\")\n",
    "print(\"-----------\")\n",
    "print(f\"nan count of {column} : {df_2022[str(column)].isna().sum()}\")\n",
    "print(f\"zero count of {column} : {(df_2022[str(column)]==0).sum()}\")\n",
    "print(f\"anomaly count of {column} : {(df_2022[str(column)] > 20000).sum()}\")"
   ],
   "metadata": {
    "collapsed": false,
    "pycharm": {
     "name": "#%%\n"
    }
   }
  },
  {
   "cell_type": "code",
   "execution_count": 12,
   "outputs": [],
   "source": [
    "impute_df.to_csv(\"data_2012~2021 impute_tototf.csv\")\n",
    "df_2022.to_csv(\"data_2022 impute_tototf.csv\")"
   ],
   "metadata": {
    "collapsed": false,
    "pycharm": {
     "name": "#%%\n"
    }
   }
  }
 ],
 "metadata": {
  "kernelspec": {
   "display_name": "Python 3",
   "language": "python",
   "name": "python3"
  },
  "language_info": {
   "codemirror_mode": {
    "name": "ipython",
    "version": 2
   },
   "file_extension": ".py",
   "mimetype": "text/x-python",
   "name": "python",
   "nbconvert_exporter": "python",
   "pygments_lexer": "ipython2",
   "version": "2.7.6"
  }
 },
 "nbformat": 4,
 "nbformat_minor": 0
}