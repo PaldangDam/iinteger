{
 "cells": [
  {
   "cell_type": "code",
   "execution_count": 1,
   "metadata": {
    "collapsed": true
   },
   "outputs": [],
   "source": [
    "import pandas as pd\n",
    "import numpy as np\n",
    "from glob import glob\n",
    "from tqdm import tqdm\n",
    "from scipy import interpolate"
   ]
  },
  {
   "cell_type": "code",
   "execution_count": 23,
   "outputs": [],
   "source": [
    "#w_list = sorted(glob(\"data/water_data/*.csv\"))\n",
    "df = pd.read_csv(\"data_2012~2021 impute_tototf+inf.csv\")\n",
    "df = df.replace(\" \", np.nan)"
   ],
   "metadata": {
    "collapsed": false,
    "pycharm": {
     "name": "#%%\n"
    }
   }
  },
  {
   "cell_type": "code",
   "execution_count": 24,
   "outputs": [
    {
     "data": {
      "text/plain": "                 swl            inf            sfw           ecpc  \\\ncount  264253.000000  264960.000000  264253.000000  264253.000000   \nmean       25.072592     562.095247     219.630025      24.370585   \nstd         0.468083    1105.418233      10.730610      10.730225   \nmin         0.000000       0.010000      -0.010000       2.150000   \n25%        24.980000     132.500000     212.140000      14.100000   \n50%        25.102000     256.000000     217.990000      26.010000   \n75%        25.195000     526.562500     229.900000      31.860000   \nmax        25.449000   20015.000000     241.850000     244.010000   \n\n              tototf     tide_level     wl_1018662     fw_1018662  \\\ncount  264960.000000  260046.000000  264901.000000  251765.000000   \nmean      544.524190     347.262523     329.888731     728.373508   \nstd      1107.336479     174.699839      76.368029     897.650172   \nmin         9.000000      39.000000     259.700000     243.290000   \n25%       132.000000     193.000000     288.700000     337.640000   \n50%       175.700000     328.000000     307.700000     461.960000   \n75%       507.000000     489.000000     343.700000     752.700000   \nmax     18615.260000     842.000000    1287.700000    9405.640000   \n\n          wl_1018680  fw_1018680     wl_1018683     fw_1018683     wl_1019630  \\\ncount  264901.000000     79487.0  264901.000000  263681.000000  264901.000000   \nmean      316.469463         0.0     313.050204     603.419963     300.517598   \nstd        67.473104         0.0      63.781461    1381.465277      51.321570   \nmin       246.200000         0.0     247.000000   -3522.710000     241.300000   \n25%       278.200000         0.0     276.000000     207.950000     268.300000   \n50%       298.200000         0.0     296.000000     359.190000     287.300000   \n75%       330.200000         0.0     328.000000     713.260000     317.300000   \nmax      1146.200000         0.0    1080.000000   25289.170000     843.300000   \n\n          fw_1019630  \ncount  264901.000000  \nmean     1064.080321  \nstd      1432.056582  \nmin       212.040000  \n25%       460.030000  \n50%       692.880000  \n75%      1159.750000  \nmax     29854.120000  ",
      "text/html": "<div>\n<style scoped>\n    .dataframe tbody tr th:only-of-type {\n        vertical-align: middle;\n    }\n\n    .dataframe tbody tr th {\n        vertical-align: top;\n    }\n\n    .dataframe thead th {\n        text-align: right;\n    }\n</style>\n<table border=\"1\" class=\"dataframe\">\n  <thead>\n    <tr style=\"text-align: right;\">\n      <th></th>\n      <th>swl</th>\n      <th>inf</th>\n      <th>sfw</th>\n      <th>ecpc</th>\n      <th>tototf</th>\n      <th>tide_level</th>\n      <th>wl_1018662</th>\n      <th>fw_1018662</th>\n      <th>wl_1018680</th>\n      <th>fw_1018680</th>\n      <th>wl_1018683</th>\n      <th>fw_1018683</th>\n      <th>wl_1019630</th>\n      <th>fw_1019630</th>\n    </tr>\n  </thead>\n  <tbody>\n    <tr>\n      <th>count</th>\n      <td>264253.000000</td>\n      <td>264960.000000</td>\n      <td>264253.000000</td>\n      <td>264253.000000</td>\n      <td>264960.000000</td>\n      <td>260046.000000</td>\n      <td>264901.000000</td>\n      <td>251765.000000</td>\n      <td>264901.000000</td>\n      <td>79487.0</td>\n      <td>264901.000000</td>\n      <td>263681.000000</td>\n      <td>264901.000000</td>\n      <td>264901.000000</td>\n    </tr>\n    <tr>\n      <th>mean</th>\n      <td>25.072592</td>\n      <td>562.095247</td>\n      <td>219.630025</td>\n      <td>24.370585</td>\n      <td>544.524190</td>\n      <td>347.262523</td>\n      <td>329.888731</td>\n      <td>728.373508</td>\n      <td>316.469463</td>\n      <td>0.0</td>\n      <td>313.050204</td>\n      <td>603.419963</td>\n      <td>300.517598</td>\n      <td>1064.080321</td>\n    </tr>\n    <tr>\n      <th>std</th>\n      <td>0.468083</td>\n      <td>1105.418233</td>\n      <td>10.730610</td>\n      <td>10.730225</td>\n      <td>1107.336479</td>\n      <td>174.699839</td>\n      <td>76.368029</td>\n      <td>897.650172</td>\n      <td>67.473104</td>\n      <td>0.0</td>\n      <td>63.781461</td>\n      <td>1381.465277</td>\n      <td>51.321570</td>\n      <td>1432.056582</td>\n    </tr>\n    <tr>\n      <th>min</th>\n      <td>0.000000</td>\n      <td>0.010000</td>\n      <td>-0.010000</td>\n      <td>2.150000</td>\n      <td>9.000000</td>\n      <td>39.000000</td>\n      <td>259.700000</td>\n      <td>243.290000</td>\n      <td>246.200000</td>\n      <td>0.0</td>\n      <td>247.000000</td>\n      <td>-3522.710000</td>\n      <td>241.300000</td>\n      <td>212.040000</td>\n    </tr>\n    <tr>\n      <th>25%</th>\n      <td>24.980000</td>\n      <td>132.500000</td>\n      <td>212.140000</td>\n      <td>14.100000</td>\n      <td>132.000000</td>\n      <td>193.000000</td>\n      <td>288.700000</td>\n      <td>337.640000</td>\n      <td>278.200000</td>\n      <td>0.0</td>\n      <td>276.000000</td>\n      <td>207.950000</td>\n      <td>268.300000</td>\n      <td>460.030000</td>\n    </tr>\n    <tr>\n      <th>50%</th>\n      <td>25.102000</td>\n      <td>256.000000</td>\n      <td>217.990000</td>\n      <td>26.010000</td>\n      <td>175.700000</td>\n      <td>328.000000</td>\n      <td>307.700000</td>\n      <td>461.960000</td>\n      <td>298.200000</td>\n      <td>0.0</td>\n      <td>296.000000</td>\n      <td>359.190000</td>\n      <td>287.300000</td>\n      <td>692.880000</td>\n    </tr>\n    <tr>\n      <th>75%</th>\n      <td>25.195000</td>\n      <td>526.562500</td>\n      <td>229.900000</td>\n      <td>31.860000</td>\n      <td>507.000000</td>\n      <td>489.000000</td>\n      <td>343.700000</td>\n      <td>752.700000</td>\n      <td>330.200000</td>\n      <td>0.0</td>\n      <td>328.000000</td>\n      <td>713.260000</td>\n      <td>317.300000</td>\n      <td>1159.750000</td>\n    </tr>\n    <tr>\n      <th>max</th>\n      <td>25.449000</td>\n      <td>20015.000000</td>\n      <td>241.850000</td>\n      <td>244.010000</td>\n      <td>18615.260000</td>\n      <td>842.000000</td>\n      <td>1287.700000</td>\n      <td>9405.640000</td>\n      <td>1146.200000</td>\n      <td>0.0</td>\n      <td>1080.000000</td>\n      <td>25289.170000</td>\n      <td>843.300000</td>\n      <td>29854.120000</td>\n    </tr>\n  </tbody>\n</table>\n</div>"
     },
     "execution_count": 24,
     "metadata": {},
     "output_type": "execute_result"
    }
   ],
   "source": [
    "# 네 교량의 최소 수위는 240. 바다쪽 신곡수중보의 높이가 240이기 때문\n",
    "df.describe()"
   ],
   "metadata": {
    "collapsed": false,
    "pycharm": {
     "name": "#%%\n"
    }
   }
  },
  {
   "cell_type": "code",
   "execution_count": 25,
   "outputs": [
    {
     "name": "stdout",
     "output_type": "stream",
     "text": [
      "nan count of wl_1018662 : 59\n",
      "under zero count of wl_1018662 : 0\n",
      "-----------\n",
      "nan count of wl_1018680 : 59\n",
      "under zero count of wl_1018680 : 0\n",
      "-----------\n",
      "nan count of wl_1018683 : 59\n",
      "under zero count of wl_1018683 : 0\n",
      "-----------\n",
      "nan count of wl_1019630 : 59\n",
      "under zero count of wl_1019630 : 0\n",
      "-----------\n"
     ]
    }
   ],
   "source": [
    "columns = [\"wl_1018662\", \"wl_1018680\", \"wl_1018683\", \"wl_1019630\"]\n",
    "\n",
    "for column in columns:\n",
    "    print(f\"nan count of {column} : {df[str(column)].isna().sum()}\")\n",
    "    print(f\"under zero count of {column} : {(df[str(column)]<=0).sum()}\")\n",
    "    print(\"-----------\")"
   ],
   "metadata": {
    "collapsed": false,
    "pycharm": {
     "name": "#%%\n"
    }
   }
  },
  {
   "cell_type": "code",
   "execution_count": 26,
   "outputs": [],
   "source": [
    "columns = [\"wl_1018662\", \"wl_1018680\", \"wl_1018683\", \"wl_1019630\"]\n",
    "\n",
    "for column in columns:\n",
    "    df[column] = df[column].interpolate()"
   ],
   "metadata": {
    "collapsed": false,
    "pycharm": {
     "name": "#%%\n"
    }
   }
  },
  {
   "cell_type": "code",
   "execution_count": 28,
   "outputs": [
    {
     "name": "stdout",
     "output_type": "stream",
     "text": [
      "nan count of wl_1018662 : 0\n",
      "under zero count of wl_1018662 : 0\n",
      "-----------\n",
      "nan count of wl_1018680 : 0\n",
      "under zero count of wl_1018680 : 0\n",
      "-----------\n",
      "nan count of wl_1018683 : 0\n",
      "under zero count of wl_1018683 : 0\n",
      "-----------\n",
      "nan count of wl_1019630 : 0\n",
      "under zero count of wl_1019630 : 0\n",
      "-----------\n"
     ]
    }
   ],
   "source": [
    "columns = [\"wl_1018662\", \"wl_1018680\", \"wl_1018683\", \"wl_1019630\"]\n",
    "\n",
    "for column in columns:\n",
    "    print(f\"nan count of {column} : {df[str(column)].isna().sum()}\")\n",
    "    print(f\"under zero count of {column} : {(df[str(column)]<=0).sum()}\")\n",
    "    print(\"-----------\")"
   ],
   "metadata": {
    "collapsed": false,
    "pycharm": {
     "name": "#%%\n"
    }
   }
  },
  {
   "cell_type": "code",
   "execution_count": 29,
   "outputs": [],
   "source": [
    "df.to_csv(\"data_2012~2021 impute_tototf+inf+wl.csv\")"
   ],
   "metadata": {
    "collapsed": false,
    "pycharm": {
     "name": "#%%\n"
    }
   }
  }
 ],
 "metadata": {
  "kernelspec": {
   "display_name": "Python 3",
   "language": "python",
   "name": "python3"
  },
  "language_info": {
   "codemirror_mode": {
    "name": "ipython",
    "version": 2
   },
   "file_extension": ".py",
   "mimetype": "text/x-python",
   "name": "python",
   "nbconvert_exporter": "python",
   "pygments_lexer": "ipython2",
   "version": "2.7.6"
  }
 },
 "nbformat": 4,
 "nbformat_minor": 0
}